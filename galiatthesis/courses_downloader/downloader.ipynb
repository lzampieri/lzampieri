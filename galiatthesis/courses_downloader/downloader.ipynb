{
 "cells": [
  {
   "cell_type": "code",
   "execution_count": 1,
   "source": [
    "from lxml import html\r\n",
    "import requests\r\n",
    "import re\r\n",
    "import json\r\n",
    "from dataclasses import dataclass, asdict"
   ],
   "outputs": [],
   "metadata": {}
  },
  {
   "cell_type": "code",
   "execution_count": 2,
   "source": [
    "@dataclass\r\n",
    "class Course:\r\n",
    "    title: str\r\n",
    "    course_type: str"
   ],
   "outputs": [],
   "metadata": {}
  },
  {
   "cell_type": "code",
   "execution_count": 3,
   "source": [
    "# Params\r\n",
    "base_url = \"https://didattica.unipd.it\"\r\n",
    "courses_types = [\"LT\", \"LM\", \"CU\"]\r\n",
    "years = range(2012,2022)\r\n",
    "urls = {}\r\n",
    "for t in courses_types:\r\n",
    "    urls[t] = [];\r\n",
    "courses = []"
   ],
   "outputs": [],
   "metadata": {}
  },
  {
   "cell_type": "code",
   "execution_count": 4,
   "source": [
    "# Download the list of schools\r\n",
    "for t in courses_types:\r\n",
    "    for y in years:\r\n",
    "        page = requests.get( base_url + \"/off/\" + str(y) + \"/\" + t )\r\n",
    "        tree = html.fromstring( page.content )\r\n",
    "        urls[t].extend( tree.xpath('//tr[@class=\"list_scuole\"]//a/@href') )"
   ],
   "outputs": [],
   "metadata": {}
  },
  {
   "cell_type": "code",
   "execution_count": null,
   "source": [
    "# Download the list of courses\r\n",
    "courses_dict = {}\r\n",
    "for t in courses_types:\r\n",
    "    for u in urls[t]:\r\n",
    "        page = requests.get( base_url + u )\r\n",
    "        tree = html.fromstring( page.content )\r\n",
    "        rows = tree.xpath('//tr[@class=\"list_cds\"]//tbody//tr')\r\n",
    "        for r in rows:\r\n",
    "            cells = r.xpath('td')\r\n",
    "            if( len(cells) ):\r\n",
    "                course_title = cells[1].xpath('a//text()')\r\n",
    "                if( isinstance( course_title, list) ):\r\n",
    "                    course_title = course_title[0]\r\n",
    "                course_title = course_title.title()\r\n",
    "                course_title = re.sub(r'\\(.*\\)',\"\",course_title)\r\n",
    "                course_title = course_title.capitalize()\r\n",
    "                if course_title in courses_dict:\r\n",
    "                    continue\r\n",
    "                else:\r\n",
    "                    courses_dict[course_title] = Course( course_title, t )\r\n",
    "courses_dict[\"Scienze Morali\"] = Course( \"Scienze Morali\", \"SG\")\r\n",
    "courses_dict[\"Scienze Naturali\"] = Course( \"Scienze Naturali\", \"SG\")\r\n",
    "courses_dict[\"Scienze Sociali\"] = Course( \"Scienze Sociali\", \"SG\")"
   ],
   "outputs": [],
   "metadata": {}
  },
  {
   "cell_type": "code",
   "execution_count": null,
   "source": [
    "all_courses = list( courses_dict.values() )\r\n",
    "all_courses.sort( key= lambda x : x.title )\r\n",
    "all_courses = list( map( asdict, all_courses ) )\r\n",
    "with open('courses.json', 'w') as outfile:\r\n",
    "    json.dump( all_courses, outfile )"
   ],
   "outputs": [],
   "metadata": {}
  },
  {
   "cell_type": "code",
   "execution_count": null,
   "source": [],
   "outputs": [],
   "metadata": {}
  }
 ],
 "metadata": {
  "orig_nbformat": 4,
  "language_info": {
   "name": "python",
   "version": "3.7.7",
   "mimetype": "text/x-python",
   "codemirror_mode": {
    "name": "ipython",
    "version": 3
   },
   "pygments_lexer": "ipython3",
   "nbconvert_exporter": "python",
   "file_extension": ".py"
  },
  "kernelspec": {
   "name": "python3",
   "display_name": "Python 3.7.7 64-bit ('base': conda)"
  },
  "interpreter": {
   "hash": "b3ba2566441a7c06988d0923437866b63cedc61552a5af99d1f4fb67d367b25f"
  }
 },
 "nbformat": 4,
 "nbformat_minor": 2
}